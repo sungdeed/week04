{
 "cells": [
  {
   "cell_type": "code",
   "execution_count": null,
   "metadata": {},
   "outputs": [],
   "source": [
    "!pip install selenium\n",
    "!pip install bs4"
   ]
  },
  {
   "cell_type": "code",
   "execution_count": null,
   "metadata": {},
   "outputs": [],
   "source": [
    "pip install selenium==4.2.0 --force-reinstall"
   ]
  },
  {
   "cell_type": "code",
   "execution_count": 1,
   "metadata": {},
   "outputs": [],
   "source": [
    "import pandas as pd\n",
    "from selenium import webdriver\n",
    "from selenium.webdriver.firefox.options import Options\n",
    "from selenium.webdriver.common.keys import Keys\n",
    "import bs4\n",
    "import time\n",
    "import re\n",
    "from selenium.webdriver.common.by import By"
   ]
  },
  {
   "cell_type": "code",
   "execution_count": 2,
   "metadata": {},
   "outputs": [
    {
     "name": "stderr",
     "output_type": "stream",
     "text": [
      "<ipython-input-2-c5dd6ab9c83d>:4: DeprecationWarning: executable_path has been deprecated, please pass in a Service object\n",
      "  driver = webdriver.Firefox(executable_path=r'C:\\Users\\sung2\\OneDrive\\เดสก์ท็อป\\sung\\dsi310\\toyota\\geckodriver.exe', options=options)\n"
     ]
    }
   ],
   "source": [
    "#Open browser ด้วย Selenium\n",
    "options = Options()\n",
    "options.binary_location = r'C:\\Program Files\\Mozilla Firefox\\firefox.exe'\n",
    "driver = webdriver.Firefox(executable_path=r'C:\\Users\\sung2\\OneDrive\\เดสก์ท็อป\\sung\\dsi310\\toyota\\geckodriver.exe', options=options)\n",
    "driver.get('https://www.checkraka.com/car/toyota/altis-corolla')"
   ]
  },
  {
   "cell_type": "code",
   "execution_count": 3,
   "metadata": {},
   "outputs": [],
   "source": [
    "#Search ใน Search bar ของ car24\n",
    "search = driver.find_element(By.XPATH, '#search-q-full6374c5c8509d2')\n",
    "search.send_keys('altis-corolla')"
   ]
  },
  {
   "cell_type": "code",
   "execution_count": 4,
   "metadata": {},
   "outputs": [],
   "source": [
    "#กด Enter\n",
    "search.send_keys(Keys.ENTER)"
   ]
  },
  {
   "cell_type": "markdown",
   "metadata": {},
   "source": [
    "scrap\n"
   ]
  },
  {
   "cell_type": "code",
   "execution_count": 5,
   "metadata": {},
   "outputs": [],
   "source": [
    "data = driver.page_source #ดึงข้อมูลจากหน้าเว็บ\n",
    "soup = bs4.BeautifulSoup(data) #จัดในรูปแบบ BeautifulSoup"
   ]
  },
  {
   "cell_type": "code",
   "execution_count": null,
   "metadata": {},
   "outputs": [],
   "source": [
    "soup.select(\"._19NX8>div\") #css selector"
   ]
  },
  {
   "cell_type": "code",
   "execution_count": 9,
   "metadata": {},
   "outputs": [],
   "source": [
    "el=soup.select(\"._19NX8>div\")"
   ]
  },
  {
   "cell_type": "code",
   "execution_count": 10,
   "metadata": {},
   "outputs": [
    {
     "data": {
      "text/plain": [
       "8"
      ]
     },
     "execution_count": 10,
     "metadata": {},
     "output_type": "execute_result"
    }
   ],
   "source": [
    "len(el)"
   ]
  },
  {
   "cell_type": "code",
   "execution_count": 28,
   "metadata": {},
   "outputs": [],
   "source": [
    "#model\n",
    "e.select_one('#model-index > div.section.crkp.c158 > div.content > ul > li:nth-child(1) > ul > li.spec > ul > li:nth-child(1) > a')"
   ]
  },
  {
   "cell_type": "code",
   "execution_count": 29,
   "metadata": {},
   "outputs": [],
   "source": [
    "#FullPrice\n",
    "e.select_one(\"#model-index > div.section.crkp.c158 > div.content > ul > li:nth-child(1) > ul > li.detail > div.price\")"
   ]
  },
  {
   "cell_type": "code",
   "execution_count": 31,
   "metadata": {},
   "outputs": [],
   "source": [
    "#fuel\n",
    "p = e.select_one('#model-index > div.section.crkp.c158 > div.content > ul > li:nth-child(1) > ul > li.spec > ul > li:nth-child(4) > div:nth-child(2) > a:nth-child(1)')\n",
    "\n"
   ]
  },
  {
   "cell_type": "code",
   "execution_count": null,
   "metadata": {},
   "outputs": [],
   "source": [
    "#type\n",
    "e.select_one(\"#model-index > div.section.crkp.c158 > div.content > ul > li:nth-child(1) > ul > li.spec > ul > li:nth-child(3) > div:nth-child(2) > a:nth-child(2)\")"
   ]
  },
  {
   "cell_type": "code",
   "execution_count": 33,
   "metadata": {},
   "outputs": [],
   "source": [
    "#horse\n",
    "e.select_one(\"#model-index > div.section.crkp.c158 > div.content > ul > li:nth-child(1) > ul > li.spec > ul > li:nth-child(5)\")\n",
    "#detail\n",
    "e.select_one'#model-index > div.section.crkp.c158 > div.content > ul > li:nth-child(1) > ul > li.spec > ul > li:nth-child(6) > div:nth-child(2)'\n",
    " "
   ]
  },
  {
   "cell_type": "code",
   "execution_count": null,
   "metadata": {},
   "outputs": [],
   "source": [
    "records=[]\n",
    "data = driver.page_source\n",
    "soup = bs4.BeautifulSoup(data)\n",
    "el=soup.select(\"._19NX8>div\")\n",
    "for e in el:\n",
    "    fuel = e.select_one(\"#model-index > div.section.crkp.c158 > div.content > ul > li:nth-child(1) > ul > li.detail > div.price\")\n",
    "    name = e.select_one('#model-index > div.section.crkp.c158 > div.content > ul > li:nth-child(1) > ul > li.spec > ul > li:nth-child(1) > a')\n",
    "    price = e.select_one(\"#model-index > div.section.crkp.c158 > div.content > ul > li:nth-child(1) > ul > li.detail > div.price\")\n",
    "    type = e.select_one(\"#model-index > div.section.crkp.c158 > div.content > ul > li:nth-child(1) > ul > li.spec > ul > li:nth-child(3) > div:nth-child(2) > a:nth-child(2)\")\n",
    "    horse = e.select_one(\"#model-index > div.section.crkp.c158 > div.content > ul > li:nth-child(1) > ul > li.spec > ul > li:nth-child(5)\")\n",
    "    enginedetail = e.select_one'#model-index > div.section.crkp.c158 > div.content > ul > li:nth-child(1) > ul > li.spec > ul > li:nth-child(6) > div:nth-child(2)'\n",
    "\n",
    "    records.append([fuel, name, price, type, horse, enginedetail])\n",
    "    \n",
    "\n",
    "records"
   ]
  },
  {
   "cell_type": "code",
   "execution_count": null,
   "metadata": {},
   "outputs": [],
   "source": [
    "len(records)"
   ]
  },
  {
   "cell_type": "code",
   "execution_count": null,
   "metadata": {},
   "outputs": [],
   "source": [
    "# DataFrame\n",
    "df = pd.DataFrame(records, columns=['fuel', 'name','type','horse', 'price', 'enginedetail']) # ใส้ชื่อ Columns ทั้งหมด\n",
    "df"
   ]
  }
 ],
 "metadata": {
  "kernelspec": {
   "display_name": "Python 3.8.8 ('base')",
   "language": "python",
   "name": "python3"
  },
  "language_info": {
   "codemirror_mode": {
    "name": "ipython",
    "version": 3
   },
   "file_extension": ".py",
   "mimetype": "text/x-python",
   "name": "python",
   "nbconvert_exporter": "python",
   "pygments_lexer": "ipython3",
   "version": "3.8.8"
  },
  "orig_nbformat": 4,
  "vscode": {
   "interpreter": {
    "hash": "f2b4599b82a3b2ceecfdbed1dcda3667f64d4645d3985eb35860a30ec2a9f014"
   }
  }
 },
 "nbformat": 4,
 "nbformat_minor": 2
}
